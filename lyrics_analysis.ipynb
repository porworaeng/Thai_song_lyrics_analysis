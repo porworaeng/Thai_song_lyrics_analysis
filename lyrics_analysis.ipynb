{
 "cells": [
  {
   "cell_type": "markdown",
   "metadata": {},
   "source": [
    "# Import Libraries"
   ]
  },
  {
   "cell_type": "code",
   "execution_count": 1,
   "metadata": {},
   "outputs": [],
   "source": [
    "import pandas as pd\n",
    "import lyrics_extractor"
   ]
  },
  {
   "cell_type": "code",
   "execution_count": 3,
   "metadata": {},
   "outputs": [
    {
     "data": {
      "text/html": [
       "<div>\n",
       "<style scoped>\n",
       "    .dataframe tbody tr th:only-of-type {\n",
       "        vertical-align: middle;\n",
       "    }\n",
       "\n",
       "    .dataframe tbody tr th {\n",
       "        vertical-align: top;\n",
       "    }\n",
       "\n",
       "    .dataframe thead th {\n",
       "        text-align: right;\n",
       "    }\n",
       "</style>\n",
       "<table border=\"1\" class=\"dataframe\">\n",
       "  <thead>\n",
       "    <tr style=\"text-align: right;\">\n",
       "      <th></th>\n",
       "      <th>Song</th>\n",
       "      <th>Artist</th>\n",
       "      <th>Lyrics</th>\n",
       "    </tr>\n",
       "  </thead>\n",
       "  <tbody>\n",
       "    <tr>\n",
       "      <th>0</th>\n",
       "      <td>อะ ไนท์ (A Night)</td>\n",
       "      <td>บอดี้สแลม</td>\n",
       "      <td>ดึกดื่นคืนใดมองฟ้าไม่เห็นจันทร์ไม่เจอะเจอกันให...</td>\n",
       "    </tr>\n",
       "    <tr>\n",
       "      <th>1</th>\n",
       "      <td>ขอบฟ้า</td>\n",
       "      <td>บอดี้สแลม</td>\n",
       "      <td>ได้แต่เหลียวมองไปสุดฟ้าไกลมันช่างน่าเสียดายที่...</td>\n",
       "    </tr>\n",
       "    <tr>\n",
       "      <th>2</th>\n",
       "      <td>คนที่ถูกรัก</td>\n",
       "      <td>บอดี้สแลม</td>\n",
       "      <td>ใจฉันเคยถูกทิ้งเพียงลำพังรักใครมาแล้วตั้งกี่คร...</td>\n",
       "    </tr>\n",
       "    <tr>\n",
       "      <th>3</th>\n",
       "      <td>ความเชื่อ</td>\n",
       "      <td>บอดี้สแลม</td>\n",
       "      <td>มันเกือบจะล้มมันเหนื่อยมันล้าเหมือนแทบขาดใจเดิ...</td>\n",
       "    </tr>\n",
       "    <tr>\n",
       "      <th>4</th>\n",
       "      <td>ความรักทำให้คนตาบอด</td>\n",
       "      <td>บอดี้สแลม</td>\n",
       "      <td>รู้ว่ามันไม่สมควรที่ยังกวนใจเธอฉันขอโทษทีรักแล...</td>\n",
       "    </tr>\n",
       "  </tbody>\n",
       "</table>\n",
       "</div>"
      ],
      "text/plain": [
       "                  Song     Artist  \\\n",
       "0    อะ ไนท์ (A Night)  บอดี้สแลม   \n",
       "1               ขอบฟ้า  บอดี้สแลม   \n",
       "2          คนที่ถูกรัก  บอดี้สแลม   \n",
       "3            ความเชื่อ  บอดี้สแลม   \n",
       "4  ความรักทำให้คนตาบอด  บอดี้สแลม   \n",
       "\n",
       "                                              Lyrics  \n",
       "0  ดึกดื่นคืนใดมองฟ้าไม่เห็นจันทร์ไม่เจอะเจอกันให...  \n",
       "1  ได้แต่เหลียวมองไปสุดฟ้าไกลมันช่างน่าเสียดายที่...  \n",
       "2  ใจฉันเคยถูกทิ้งเพียงลำพังรักใครมาแล้วตั้งกี่คร...  \n",
       "3  มันเกือบจะล้มมันเหนื่อยมันล้าเหมือนแทบขาดใจเดิ...  \n",
       "4  รู้ว่ามันไม่สมควรที่ยังกวนใจเธอฉันขอโทษทีรักแล...  "
      ]
     },
     "execution_count": 3,
     "metadata": {},
     "output_type": "execute_result"
    }
   ],
   "source": [
    "artist_name = \"บอดี้สแลม\"\n",
    "\n",
    "df_bodyslam = lyrics_extractor.get_song_df(artist_name)\n",
    "df_bodyslam.head()"
   ]
  }
 ],
 "metadata": {
  "kernelspec": {
   "display_name": "base",
   "language": "python",
   "name": "python3"
  },
  "language_info": {
   "codemirror_mode": {
    "name": "ipython",
    "version": 3
   },
   "file_extension": ".py",
   "mimetype": "text/x-python",
   "name": "python",
   "nbconvert_exporter": "python",
   "pygments_lexer": "ipython3",
   "version": "3.9.16"
  }
 },
 "nbformat": 4,
 "nbformat_minor": 2
}
